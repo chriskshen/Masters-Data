{
 "cells": [
  {
   "cell_type": "code",
   "execution_count": null,
   "metadata": {},
   "outputs": [],
   "source": [
    "import pymongo\n",
    "\n",
    "# Connect to MongoDB\n",
    "client = pymongo.MongoClient(\"mongodb://localhost:27017/\")\n",
    "database = client[\"ecommerce_database\"]\n",
    "products_collection = database[\"products\"]\n",
    "customers_collection = database[\"customers\"]\n",
    "orders_collection = database[\"orders\"]"
   ]
  },
  {
   "cell_type": "code",
   "execution_count": null,
   "id": "1cfcbbd9",
   "metadata": {},
   "outputs": [],
   "source": [
    "# Insert sample product data\n",
    "product_data = [\n",
    "    {\"name\": \"Laptop\", \"price\": 1200, \"brand\": \"ABC\", \"stock\": 50},\n",
    "    {\"name\": \"Smartphone\", \"price\": 800, \"brand\": \"XYZ\", \"stock\": 100},\n",
    "    {\"name\": \"Headphones\", \"price\": 100, \"brand\": \"DEF\", \"stock\": 200},\n",
    "]\n",
    "\n",
    "# Insert data into the products collection\n",
    "products_collection.insert_many(product_data)"
   ]
  },
  {
   "cell_type": "code",
   "execution_count": null,
   "id": "834fd22c",
   "metadata": {},
   "outputs": [],
   "source": [
    "# Insert sample customer data\n",
    "customer_data = [\n",
    "    {\"name\": \"John Doe\", \"email\": \"john@example.com\", \"address\": \"123 Main St\"},\n",
    "    {\"name\": \"Jane Smith\", \"email\": \"jane@example.com\", \"address\": \"456 Oak St\"},\n",
    "]\n",
    "\n",
    "# Insert data into the customers collection\n",
    "customers_collection.insert_many(customer_data)"
   ]
  },
  {
   "cell_type": "code",
   "execution_count": null,
   "id": "2c8b767b",
   "metadata": {},
   "outputs": [],
   "source": [
    "# Insert sample order data\n",
    "order_data = [\n",
    "    {\"customer_id\": 1, \"products\": [{\"product_id\": 1, \"quantity\": 2}, {\"product_id\": 2, \"quantity\": 1}]},\n",
    "    {\"customer_id\": 2, \"products\": [{\"product_id\": 3, \"quantity\": 3}]},\n",
    "]\n",
    "\n",
    "# Insert data into the orders collection\n",
    "orders_collection.insert_many(order_data)"
   ]
  },
  {
   "cell_type": "code",
   "execution_count": null,
   "id": "20e5fb33",
   "metadata": {},
   "outputs": [],
   "source": [
    "# Retrieve all products\n",
    "all_products = products_collection.find()\n",
    "for product in all_products:\n",
    "    print(product)"
   ]
  },
  {
   "cell_type": "code",
   "execution_count": null,
   "id": "46228d68",
   "metadata": {},
   "outputs": [],
   "source": [
    "# Retrieve all customers\n",
    "all_customers = customers_collection.find()\n",
    "for customer in all_customers:\n",
    "    print(customer)"
   ]
  },
  {
   "cell_type": "code",
   "execution_count": null,
   "id": "635301ab",
   "metadata": {},
   "outputs": [],
   "source": [
    "# Retrieve all orders\n",
    "all_orders = orders_collection.find()\n",
    "for order in all_orders:\n",
    "    print(order)"
   ]
  }
 ],
 "metadata": {
  "language_info": {
   "name": "python"
  }
 },
 "nbformat": 4,
 "nbformat_minor": 5
}
