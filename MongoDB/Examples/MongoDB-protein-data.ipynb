{
 "cells": [
  {
   "cell_type": "code",
   "execution_count": null,
   "metadata": {},
   "outputs": [],
   "source": [
    "pip install pymongo"
   ]
  },
  {
   "cell_type": "code",
   "execution_count": null,
   "id": "0bcd17c6",
   "metadata": {},
   "outputs": [],
   "source": [
    "import pymongo\n",
    "\n",
    "# Connect to MongoDB\n",
    "client = pymongo.MongoClient(\"mongodb://localhost:27017/\")\n",
    "database = client[\"protein_database\"]\n",
    "collection = database[\"proteins\"]"
   ]
  },
  {
   "cell_type": "code",
   "execution_count": null,
   "id": "120f6695",
   "metadata": {},
   "outputs": [],
   "source": [
    "protein_data = {\n",
    "    \"name\": \"Hemoglobin\",\n",
    "    \"type\": \"Oxygen transporter\",\n",
    "    \"organism\": \"Human\",\n",
    "    \"structure\": {\n",
    "        \"primary\": \"Amino acid sequence...\",\n",
    "        \"secondary\": \"Alpha-helix and beta-sheet...\",\n",
    "        \"tertiary\": \"3D structure...\",\n",
    "    },\n",
    "    \"functions\": [\"Oxygen binding\", \"Carbon dioxide transport\"],\n",
    "}\n",
    "\n",
    "# Insert data into the collection\n",
    "collection.insert_one(protein_data)"
   ]
  },
  {
   "cell_type": "code",
   "execution_count": null,
   "id": "3b53ee31",
   "metadata": {},
   "outputs": [],
   "source": [
    "result = collection.find_one({\"name\": \"Hemoglobin\"})\n",
    "print(result)"
   ]
  },
  {
   "cell_type": "code",
   "execution_count": null,
   "id": "776d8b5f",
   "metadata": {},
   "outputs": [],
   "source": [
    "collection.update_one(\n",
    "    {\"name\": \"Hemoglobin\"},\n",
    "    {\"$set\": {\"functions\": [\"Oxygen binding\", \"Carbon dioxide transport\", \"pH regulation\"]}}\n",
    ")"
   ]
  },
  {
   "cell_type": "code",
   "execution_count": null,
   "id": "2d2c8179",
   "metadata": {},
   "outputs": [],
   "source": [
    "updated_result = collection.find_one({\"name\": \"Hemoglobin\"})\n",
    "print(updated_result)"
   ]
  }
 ],
 "metadata": {
  "language_info": {
   "name": "python"
  }
 },
 "nbformat": 4,
 "nbformat_minor": 5
}
